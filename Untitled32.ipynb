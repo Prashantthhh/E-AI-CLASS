{
  "nbformat": 4,
  "nbformat_minor": 0,
  "metadata": {
    "colab": {
      "provenance": [],
      "authorship_tag": "ABX9TyO2YVhh37aZnAc6r/JNoeSY",
      "include_colab_link": true
    },
    "kernelspec": {
      "name": "python3",
      "display_name": "Python 3"
    },
    "language_info": {
      "name": "python"
    }
  },
  "cells": [
    {
      "cell_type": "markdown",
      "metadata": {
        "id": "view-in-github",
        "colab_type": "text"
      },
      "source": [
        "<a href=\"https://colab.research.google.com/github/Prashantthhh/E-AI-CLASS/blob/main/Untitled32.ipynb\" target=\"_parent\"><img src=\"https://colab.research.google.com/assets/colab-badge.svg\" alt=\"Open In Colab\"/></a>"
      ]
    },
    {
      "cell_type": "markdown",
      "source": [
        "problem 1"
      ],
      "metadata": {
        "id": "v1NKRblkD-na"
      }
    },
    {
      "cell_type": "code",
      "source": [
        "import pandas as pd\n",
        "import numpy as np\n",
        "from sklearn.linear_model import LinearRegression\n",
        "data = pd.DataFrame({\n",
        "    \"Flyers_100s\": [1, 2, 3, 1, 2],\n",
        "    \"Cars_Washed\": [12, 22, 29, 14, 24]\n",
        "})\n",
        "\n",
        "X = data[[\"Flyers_100s\"]]\n",
        "y = data[\"Cars_Washed\"]\n",
        "\n",
        "model = LinearRegression()\n",
        "model.fit(X, y)\n",
        "\n",
        "coef = model.coef_[0]\n",
        "intercept = model.intercept_\n",
        "print(f\"Coefficient: {coef:.2f}, Intercept: {intercept:.2f}\")\n",
        "\n",
        "baseline = y.mean()\n",
        "print(f\"Baseline (mean y): {baseline:.2f}\")\n",
        "\n",
        "\n",
        "predictions = model.predict(X)\n",
        "\n",
        "shap_values = predictions - baseline\n",
        "\n",
        "\n",
        "check = np.isclose(predictions, baseline + shap_values).all()\n",
        "print(f\"Check Prediction = Baseline + SHAP? {check}\")\n",
        "\n",
        "\n",
        "comparison = np.where(predictions > y, \"Over\",\n",
        "                      np.where(predictions < y, \"Under\", \"Exact\"))\n",
        "\n",
        "\n",
        "results = pd.DataFrame({\n",
        "    \"Flyers_100s\": X[\"Flyers_100s\"],\n",
        "    \"Actual\": y,\n",
        "    \"Predicted\": predictions.round(2),\n",
        "    \"Baseline\": baseline,\n",
        "    \"SHAP_Value\": shap_values.round(2),\n",
        "    \"Over/Under\": comparison\n",
        "})\n",
        "\n",
        "print(results)"
      ],
      "metadata": {
        "colab": {
          "base_uri": "https://localhost:8080/"
        },
        "id": "9PddHhazD-wg",
        "outputId": "2eeeee66-60cb-4d21-98a9-820ad8e827e3"
      },
      "execution_count": 1,
      "outputs": [
        {
          "output_type": "stream",
          "name": "stdout",
          "text": [
            "Coefficient: 8.29, Intercept: 5.29\n",
            "Baseline (mean y): 20.20\n",
            "Check Prediction = Baseline + SHAP? True\n",
            "   Flyers_100s  Actual  Predicted  Baseline  SHAP_Value Over/Under\n",
            "0            1      12      13.57      20.2       -6.63       Over\n",
            "1            2      22      21.86      20.2        1.66      Under\n",
            "2            3      29      30.14      20.2        9.94       Over\n",
            "3            1      14      13.57      20.2       -6.63      Under\n",
            "4            2      24      21.86      20.2        1.66      Under\n"
          ]
        }
      ]
    },
    {
      "cell_type": "markdown",
      "source": [
        "problem 2"
      ],
      "metadata": {
        "id": "fmB_yrmyEB7G"
      }
    },
    {
      "cell_type": "code",
      "source": [
        "import pandas as pd\n",
        "import numpy as np\n",
        "from sklearn.linear_model import LinearRegression\n",
        "\n",
        "data = pd.DataFrame({\n",
        "    \"Chargers\": [5, 3, 4, 2, 5],\n",
        "    \"PeakHour\": [1, 0, 1, 0, 0],\n",
        "    \"Sessions\": [80, 40, 70, 30, 60]\n",
        "})\n",
        "\n",
        "X = data[[\"Chargers\", \"PeakHour\"]]\n",
        "y = data[\"Sessions\"]\n",
        "\n",
        "\n",
        "model = LinearRegression()\n",
        "model.fit(X, y)\n",
        "\n",
        "coef_chargers, coef_peak = model.coef_\n",
        "intercept = model.intercept_\n",
        "print(f\"Coefficients -> Chargers: {coef_chargers:.2f}, PeakHour: {coef_peak:.2f}\")\n",
        "print(f\"Intercept: {intercept:.2f}\")\n",
        "\n",
        "\n",
        "baseline = y.mean()\n",
        "print(f\"Baseline (mean y): {baseline:.2f}\")\n",
        "\n",
        "\n",
        "predictions = model.predict(X)\n",
        "\n",
        "\n",
        "mean_X = X.mean()\n",
        "shap_chargers = (X[\"Chargers\"] - mean_X[\"Chargers\"]) * coef_chargers\n",
        "shap_peak = (X[\"PeakHour\"] - mean_X[\"PeakHour\"]) * coef_peak\n",
        "\n",
        "\n",
        "check = np.isclose(predictions, baseline + shap_chargers + shap_peak).all()\n",
        "print(f\"Check Prediction Equation: {check}\")\n",
        "\n",
        "comparison = np.where(predictions > y, \"Over\",\n",
        "                      np.where(predictions < y, \"Under\", \"Exact\"))\n",
        "\n",
        "\n",
        "results = pd.DataFrame({\n",
        "    \"Chargers\": X[\"Chargers\"],\n",
        "    \"PeakHour\": X[\"PeakHour\"],\n",
        "    \"Actual\": y,\n",
        "    \"Predicted\": predictions.round(2),\n",
        "    \"Baseline\": baseline,\n",
        "    \"SHAP_Chargers\": shap_chargers.round(2),\n",
        "    \"SHAP_PeakHour\": shap_peak.round(2),\n",
        "    \"Over/Under\": comparison\n",
        "})\n",
        "\n",
        "print(\"\\nFinal Results Table:\\n\")\n",
        "print(results)"
      ],
      "metadata": {
        "colab": {
          "base_uri": "https://localhost:8080/"
        },
        "id": "JpuLI2ZlECJg",
        "outputId": "20a6cae9-9129-4b7b-9386-c9d9e3b27468"
      },
      "execution_count": 2,
      "outputs": [
        {
          "output_type": "stream",
          "name": "stdout",
          "text": [
            "Coefficients -> Chargers: 10.00, PeakHour: 20.00\n",
            "Intercept: 10.00\n",
            "Baseline (mean y): 56.00\n",
            "Check Prediction Equation: True\n",
            "\n",
            "Final Results Table:\n",
            "\n",
            "   Chargers  PeakHour  Actual  Predicted  Baseline  SHAP_Chargers  \\\n",
            "0         5         1      80       80.0      56.0           12.0   \n",
            "1         3         0      40       40.0      56.0           -8.0   \n",
            "2         4         1      70       70.0      56.0            2.0   \n",
            "3         2         0      30       30.0      56.0          -18.0   \n",
            "4         5         0      60       60.0      56.0           12.0   \n",
            "\n",
            "   SHAP_PeakHour Over/Under  \n",
            "0           12.0      Exact  \n",
            "1           -8.0      Exact  \n",
            "2           12.0      Exact  \n",
            "3           -8.0       Over  \n",
            "4           -8.0      Exact  \n"
          ]
        }
      ]
    },
    {
      "cell_type": "markdown",
      "source": [
        "problem 3"
      ],
      "metadata": {
        "id": "Dr5NwY0EEE5y"
      }
    },
    {
      "cell_type": "code",
      "source": [
        "import pandas as pd\n",
        "import numpy as np\n",
        "from sklearn.datasets import load_diabetes\n",
        "from sklearn.linear_model import LinearRegression\n",
        "from sklearn.model_selection import train_test_split\n",
        "\n",
        "diabetes = load_diabetes()\n",
        "X = pd.DataFrame(diabetes.data, columns=diabetes.feature_names)\n",
        "y = pd.Series(diabetes.target, name=\"disease_progression\")\n",
        "\n",
        "X_train, X_test, y_train, y_test = train_test_split(X, y, test_size=0.2, random_state=42)\n",
        "\n",
        "\n",
        "model = LinearRegression()\n",
        "model.fit(X_train, y_train)\n",
        "\n",
        "coefficients = pd.Series(model.coef_, index=X.columns)\n",
        "intercept = model.intercept_\n",
        "print(\"Model Coefficients:\\n\", coefficients)\n",
        "print(f\"Intercept: {intercept:.2f}\")\n",
        "\n",
        "baseline = y_train.mean()\n",
        "print(f\"Baseline (mean training y): {baseline:.2f}\")\n",
        "\n",
        "\n",
        "predictions = model.predict(X_test)\n",
        "\n",
        "\n",
        "mean_X_train = X_train.mean()\n",
        "shap_values_df = (X_test - mean_X_train) * coefficients\n",
        "\n",
        "verification = np.allclose(predictions, baseline + shap_values_df.sum(axis=1))\n",
        "print(f\"Prediction verification: {verification}\")\n",
        "\n",
        "comparison = np.where(predictions > y_test, \"Over\",\n",
        "                      np.where(predictions < y_test, \"Under\", \"Exact\"))\n",
        "\n",
        "\n",
        "results = pd.DataFrame({\n",
        "    \"Actual\": y_test.values,\n",
        "    \"Predicted\": predictions.round(2),\n",
        "    \"Baseline\": baseline,\n",
        "    \"Total_SHAP_Sum\": shap_values_df.sum(axis=1).round(2),\n",
        "    \"Over/Under\": comparison\n",
        "}, index=X_test.index)\n",
        "\n",
        "\n",
        "results = pd.concat([results, shap_values_df.round(2)], axis=1)\n",
        "\n",
        "print(\"\\nSample Results with SHAP values:\\n\")\n",
        "print(results.head())"
      ],
      "metadata": {
        "colab": {
          "base_uri": "https://localhost:8080/"
        },
        "id": "a7z1hR9xEFHZ",
        "outputId": "0d21d294-e5ff-4dbe-879e-c31322064d87"
      },
      "execution_count": 3,
      "outputs": [
        {
          "output_type": "stream",
          "name": "stdout",
          "text": [
            "Model Coefficients:\n",
            " age     37.904021\n",
            "sex   -241.964362\n",
            "bmi    542.428759\n",
            "bp     347.703844\n",
            "s1    -931.488846\n",
            "s2     518.062277\n",
            "s3     163.419983\n",
            "s4     275.317902\n",
            "s5     736.198859\n",
            "s6      48.670657\n",
            "dtype: float64\n",
            "Intercept: 151.35\n",
            "Baseline (mean training y): 153.74\n",
            "Prediction verification: True\n",
            "\n",
            "Sample Results with SHAP values:\n",
            "\n",
            "     Actual  Predicted    Baseline  Total_SHAP_Sum Over/Under   age    sex  \\\n",
            "287   219.0     139.55  153.736544          -14.19      Under  1.66  10.85   \n",
            "211    70.0     179.52  153.736544           25.78       Over  3.45  10.85   \n",
            "72    202.0     134.04  153.736544          -19.70      Under  2.35 -12.22   \n",
            "321   230.0     291.42  153.736544          137.68       Over  3.59  10.85   \n",
            "73    111.0     123.79  153.736544          -29.95       Over  0.42 -12.22   \n",
            "\n",
            "       bmi     bp      s1     s2     s3     s4     s5    s6  \n",
            "287  -4.31  -5.97 -116.97  65.28   3.30   9.34  22.98 -0.35  \n",
            "211  19.08   7.20   22.73  -8.21   0.29 -10.98 -17.47 -1.15  \n",
            "72   -3.14  -4.78  -96.46  25.69   9.31  -0.82  61.31 -0.95  \n",
            "321  27.26  27.15  -51.61  19.37 -12.35  38.80  71.73  2.88  \n",
            "73  -11.91  -1.18  -36.22  27.96  -0.91   9.34  -4.68 -0.55  \n"
          ]
        }
      ]
    },
    {
      "cell_type": "markdown",
      "source": [
        "problem 4"
      ],
      "metadata": {
        "id": "jettj4o5EKL4"
      }
    },
    {
      "cell_type": "code",
      "source": [
        "import pandas as pd\n",
        "import numpy as np\n",
        "from sklearn.linear_model import LinearRegression\n",
        "from sklearn.model_selection import train_test_split\n",
        "\n",
        "data = pd.DataFrame({\n",
        "    \"studytime\": [2, 3, 1, 4, 2],\n",
        "    \"absences\": [4, 2, 10, 0, 6],\n",
        "    \"failures\": [0, 1, 2, 0, 1],\n",
        "    \"health\": [5, 3, 4, 2, 4],\n",
        "    \"G3\": [15, 14, 10, 18, 12]\n",
        "})\n",
        "\n",
        "X = data.drop(columns=[\"G3\"])\n",
        "y = data[\"G3\"]\n",
        "\n",
        "\n",
        "X_train, X_test, y_train, y_test = train_test_split(\n",
        "    X, y, test_size=0.4, random_state=42\n",
        ")\n",
        "\n",
        "model = LinearRegression()\n",
        "model.fit(X_train, y_train)\n",
        "\n",
        "coefficients = pd.Series(model.coef_, index=X.columns)\n",
        "intercept = model.intercept_\n",
        "print(\"Model Coefficients:\\n\", coefficients)\n",
        "print(f\"Intercept: {intercept:.2f}\")\n",
        "\n",
        "baseline = y_train.mean()\n",
        "print(f\"Baseline (mean training G3): {baseline:.2f}\")\n",
        "\n",
        "\n",
        "predictions = model.predict(X_test)\n",
        "\n",
        "\n",
        "mean_X_train = X_train.mean()\n",
        "shap_values_df = (X_test - mean_X_train) * coefficients\n",
        "\n",
        "\n",
        "verification = np.allclose(predictions, baseline + shap_values_df.sum(axis=1))\n",
        "print(f\"Prediction verification: {verification}\")\n",
        "\n",
        "\n",
        "comparison = np.where(predictions > y_test, \"Over\",\n",
        "                      np.where(predictions < y_test, \"Under\", \"Exact\"))\n",
        "\n",
        "results = pd.DataFrame({\n",
        "    \"Actual\": y_test.values,\n",
        "    \"Predicted\": predictions.round(2),\n",
        "    \"Baseline\": baseline,\n",
        "    \"Total_SHAP_Sum\": shap_values_df.sum(axis=1).round(2),\n",
        "    \"Over/Under\": comparison\n",
        "}, index=X_test.index)\n",
        "\n",
        "\n",
        "results = pd.concat([results, shap_values_df.round(2)], axis=1)\n",
        "\n",
        "print(\"\\nFinal Results with SHAP values:\\n\")\n",
        "print(results)"
      ],
      "metadata": {
        "colab": {
          "base_uri": "https://localhost:8080/"
        },
        "id": "0ETztkCMEKXq",
        "outputId": "816b0957-0b82-41ce-ea23-45f65269c85f"
      },
      "execution_count": 4,
      "outputs": [
        {
          "output_type": "stream",
          "name": "stdout",
          "text": [
            "Model Coefficients:\n",
            " studytime    0.142235\n",
            "absences    -0.725689\n",
            "failures    -0.220610\n",
            "health       0.062409\n",
            "dtype: float64\n",
            "Intercept: 17.31\n",
            "Baseline (mean training G3): 14.33\n",
            "Prediction verification: True\n",
            "\n",
            "Final Results with SHAP values:\n",
            "\n",
            "   Actual  Predicted   Baseline  Total_SHAP_Sum Over/Under  studytime  \\\n",
            "1      14      16.25  14.333333            1.91       Over       0.09   \n",
            "4      12      13.27  14.333333           -1.07       Over      -0.05   \n",
            "\n",
            "   absences  failures  health  \n",
            "1      1.94     -0.07   -0.04  \n",
            "4     -0.97     -0.07    0.02  \n"
          ]
        }
      ]
    }
  ]
}